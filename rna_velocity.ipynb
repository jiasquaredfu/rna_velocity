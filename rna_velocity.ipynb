{
 "cells": [
  {
   "cell_type": "markdown",
   "id": "8dfb6928-050d-46b9-ac71-2306ef64d238",
   "metadata": {},
   "source": [
    "# Process Data"
   ]
  },
  {
   "cell_type": "code",
   "execution_count": null,
   "id": "33707133-af5f-4b5b-978a-1db3c33afba6",
   "metadata": {},
   "outputs": [],
   "source": [
    "import numpy as np\n",
    "U = np.loadtxt(\"unspliced.csv\", delimiter=\",\")  # shape: (genes, cells)\n",
    "S = np.loadtxt(\"spliced.csv\", delimiter=\",\")"
   ]
  },
  {
   "cell_type": "markdown",
   "id": "a98d59f9-4583-4792-9294-0be3837c086e",
   "metadata": {},
   "source": [
    "# Filter Sequencing Data"
   ]
  },
  {
   "cell_type": "code",
   "execution_count": null,
   "id": "ab6f46a1-f9b0-4295-97e5-5da13cfe3fe8",
   "metadata": {},
   "outputs": [],
   "source": [
    "gene_mask = (U.mean(axis=1) > threshold) & (S.mean(axis=1) > threshold)\n",
    "U = U[gene_mask]\n",
    "S = S[gene_mask]"
   ]
  },
  {
   "cell_type": "markdown",
   "id": "d40f51dd-6788-42b4-a82c-e4b44d36aa05",
   "metadata": {},
   "source": [
    "# Fit RNA Velocity Model "
   ]
  },
  {
   "cell_type": "code",
   "execution_count": null,
   "id": "d4399900-315d-47d3-a7ca-90b4c52553db",
   "metadata": {},
   "outputs": [],
   "source": [
    "from sklearn.linear_model import LinearRegression\n",
    "\n",
    "def fit_velocity(u, s):\n",
    "    model = LinearRegression().fit(u.reshape(-1, 1), s)\n",
    "    s_pred = model.predict(u.reshape(-1, 1))\n",
    "    velocity = s - s_pred\n",
    "    return velocity, model.coef_, model.intercept_"
   ]
  },
  {
   "cell_type": "markdown",
   "id": "8c8744e0-d130-4842-9950-83c99d60c45b",
   "metadata": {},
   "source": [
    "# Apply PCA"
   ]
  },
  {
   "cell_type": "code",
   "execution_count": 2,
   "id": "7e8b9067-535c-4276-b02c-2a73b5124493",
   "metadata": {},
   "outputs": [
    {
     "ename": "NameError",
     "evalue": "name 'S' is not defined",
     "output_type": "error",
     "traceback": [
      "\u001b[0;31m---------------------------------------------------------------------------\u001b[0m",
      "\u001b[0;31mNameError\u001b[0m                                 Traceback (most recent call last)",
      "Cell \u001b[0;32mIn[2], line 4\u001b[0m\n\u001b[1;32m      1\u001b[0m \u001b[38;5;28;01mfrom\u001b[39;00m \u001b[38;5;21;01msklearn\u001b[39;00m\u001b[38;5;21;01m.\u001b[39;00m\u001b[38;5;21;01mdecomposition\u001b[39;00m \u001b[38;5;28;01mimport\u001b[39;00m PCA\n\u001b[1;32m      2\u001b[0m \u001b[38;5;28;01mfrom\u001b[39;00m \u001b[38;5;21;01msklearn\u001b[39;00m\u001b[38;5;21;01m.\u001b[39;00m\u001b[38;5;21;01mneighbors\u001b[39;00m \u001b[38;5;28;01mimport\u001b[39;00m NearestNeighbors\n\u001b[0;32m----> 4\u001b[0m X \u001b[38;5;241m=\u001b[39m PCA(n_components\u001b[38;5;241m=\u001b[39m\u001b[38;5;241m30\u001b[39m)\u001b[38;5;241m.\u001b[39mfit_transform(\u001b[43mS\u001b[49m\u001b[38;5;241m.\u001b[39mT)  \u001b[38;5;66;03m# Cells × features\u001b[39;00m\n\u001b[1;32m      5\u001b[0m nn \u001b[38;5;241m=\u001b[39m NearestNeighbors(n_neighbors\u001b[38;5;241m=\u001b[39m\u001b[38;5;241m30\u001b[39m)\u001b[38;5;241m.\u001b[39mfit(X)\n\u001b[1;32m      6\u001b[0m neighbors \u001b[38;5;241m=\u001b[39m nn\u001b[38;5;241m.\u001b[39mkneighbors(return_distance\u001b[38;5;241m=\u001b[39m\u001b[38;5;28;01mFalse\u001b[39;00m)\n",
      "\u001b[0;31mNameError\u001b[0m: name 'S' is not defined"
     ]
    }
   ],
   "source": [
    "from sklearn.decomposition import PCA\n",
    "from sklearn.neighbors import NearestNeighbors\n",
    "\n",
    "X = PCA(n_components=30).fit_transform(S.T)  # Cells × features\n",
    "nn = NearestNeighbors(n_neighbors=30).fit(X)\n",
    "neighbors = nn.kneighbors(return_distance=False)\n",
    "\n",
    "pooled_velocity = np.zeros_like(velocity)\n",
    "for i in range(velocity.shape[1]):\n",
    "    pooled_velocity[:, i] = velocity[:, neighbors[i]].mean(axis=1)\n",
    "\n",
    "embedding = umap.UMAP().fit_transform(S.T)\n",
    "velocity_2d = PCA_projection.T @ pooled_velocity  # Cells × PCs"
   ]
  },
  {
   "cell_type": "markdown",
   "id": "e18dc5c7-4775-4c02-94b0-68d036cf7763",
   "metadata": {},
   "source": [
    "# Visualization "
   ]
  },
  {
   "cell_type": "code",
   "execution_count": null,
   "id": "f91c3e53-7c58-4183-ad7b-6508b5609d75",
   "metadata": {},
   "outputs": [],
   "source": [
    "import matplotlib.pyplot as plt\n",
    "\n",
    "plt.scatter(embedding[:, 0], embedding[:, 1], c=\"gray\", s=10)\n",
    "plt.quiver(\n",
    "    embedding[:, 0], embedding[:, 1],\n",
    "    velocity_2d[0, :], velocity_2d[1, :],\n",
    "    angles='xy', scale_units='xy', scale=1, color='red'\n",
    ")\n",
    "plt.show()\n"
   ]
  }
 ],
 "metadata": {
  "kernelspec": {
   "display_name": "Python 3 (ipykernel)",
   "language": "python",
   "name": "python3"
  },
  "language_info": {
   "codemirror_mode": {
    "name": "ipython",
    "version": 3
   },
   "file_extension": ".py",
   "mimetype": "text/x-python",
   "name": "python",
   "nbconvert_exporter": "python",
   "pygments_lexer": "ipython3",
   "version": "3.12.5"
  }
 },
 "nbformat": 4,
 "nbformat_minor": 5
}
