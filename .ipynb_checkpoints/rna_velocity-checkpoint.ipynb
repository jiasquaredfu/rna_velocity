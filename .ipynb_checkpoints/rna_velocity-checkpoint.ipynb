{
 "cells": [
  {
   "cell_type": "markdown",
   "id": "8dfb6928-050d-46b9-ac71-2306ef64d238",
   "metadata": {},
   "source": [
    "# Process Data"
   ]
  },
  {
   "cell_type": "code",
   "execution_count": 2,
   "id": "5e9fbc79-374b-4b9f-9c7c-362f94ca2382",
   "metadata": {},
   "outputs": [
    {
     "name": "stdout",
     "output_type": "stream",
     "text": [
      "Collecting loompy\n",
      "  Downloading loompy-3.0.8.tar.gz (49 kB)\n",
      "\u001b[2K     \u001b[90m━━━━━━━━━━━━━━━━━━━━━━━━━━━━━━━━━━━━━━━━\u001b[0m \u001b[32m49.6/49.6 kB\u001b[0m \u001b[31m1.0 MB/s\u001b[0m eta \u001b[36m0:00:00\u001b[0ma \u001b[36m0:00:01\u001b[0m\n",
      "\u001b[?25h  Preparing metadata (setup.py) ... \u001b[?25ldone\n",
      "\u001b[?25hCollecting h5py (from loompy)\n",
      "  Downloading h5py-3.13.0-cp312-cp312-macosx_11_0_arm64.whl.metadata (2.5 kB)\n",
      "Requirement already satisfied: numpy in /Applications/miniconda3/lib/python3.12/site-packages (from loompy) (2.1.1)\n",
      "Requirement already satisfied: scipy in /Applications/miniconda3/lib/python3.12/site-packages (from loompy) (1.14.1)\n",
      "Requirement already satisfied: setuptools in /Applications/miniconda3/lib/python3.12/site-packages (from loompy) (69.5.1)\n",
      "Collecting numba (from loompy)\n",
      "  Downloading numba-0.61.2-cp312-cp312-macosx_11_0_arm64.whl.metadata (2.8 kB)\n",
      "Requirement already satisfied: click in /Applications/miniconda3/lib/python3.12/site-packages (from loompy) (8.1.7)\n",
      "Collecting numpy-groupies (from loompy)\n",
      "  Downloading numpy_groupies-0.11.2-py3-none-any.whl.metadata (18 kB)\n",
      "Collecting llvmlite<0.45,>=0.44.0dev0 (from numba->loompy)\n",
      "  Downloading llvmlite-0.44.0-cp312-cp312-macosx_11_0_arm64.whl.metadata (4.8 kB)\n",
      "Downloading h5py-3.13.0-cp312-cp312-macosx_11_0_arm64.whl (2.9 MB)\n",
      "\u001b[2K   \u001b[90m━━━━━━━━━━━━━━━━━━━━━━━━━━━━━━━━━━━━━━━━\u001b[0m \u001b[32m2.9/2.9 MB\u001b[0m \u001b[31m8.7 MB/s\u001b[0m eta \u001b[36m0:00:00\u001b[0ma \u001b[36m0:00:01\u001b[0m\n",
      "\u001b[?25hDownloading numba-0.61.2-cp312-cp312-macosx_11_0_arm64.whl (2.8 MB)\n",
      "\u001b[2K   \u001b[90m━━━━━━━━━━━━━━━━━━━━━━━━━━━━━━━━━━━━━━━━\u001b[0m \u001b[32m2.8/2.8 MB\u001b[0m \u001b[31m13.6 MB/s\u001b[0m eta \u001b[36m0:00:00\u001b[0m00:01\u001b[0m00:01\u001b[0m\n",
      "\u001b[?25hDownloading numpy_groupies-0.11.2-py3-none-any.whl (40 kB)\n",
      "\u001b[2K   \u001b[90m━━━━━━━━━━━━━━━━━━━━━━━━━━━━━━━━━━━━━━━━\u001b[0m \u001b[32m40.6/40.6 kB\u001b[0m \u001b[31m2.9 MB/s\u001b[0m eta \u001b[36m0:00:00\u001b[0m\n",
      "\u001b[?25hDownloading llvmlite-0.44.0-cp312-cp312-macosx_11_0_arm64.whl (26.2 MB)\n",
      "\u001b[2K   \u001b[90m━━━━━━━━━━━━━━━━━━━━━━━━━━━━━━━━━━━━━━━━\u001b[0m \u001b[32m26.2/26.2 MB\u001b[0m \u001b[31m18.9 MB/s\u001b[0m eta \u001b[36m0:00:00\u001b[0m00:01\u001b[0m00:01\u001b[0m\n",
      "\u001b[?25hBuilding wheels for collected packages: loompy\n",
      "  Building wheel for loompy (setup.py) ... \u001b[?25ldone\n",
      "\u001b[?25h  Created wheel for loompy: filename=loompy-3.0.8-py3-none-any.whl size=54014 sha256=e7c4dddb496158b104653ac2ba6a954bf5c90d1c03ee708f7b411fe8379dd32f\n",
      "  Stored in directory: /Users/jiasquared/Library/Caches/pip/wheels/2e/45/28/2c7afc7f9eab47612e1b5090cfb9ba0f00777625064039a6af\n",
      "Successfully built loompy\n",
      "Installing collected packages: numpy-groupies, llvmlite, h5py, numba, loompy\n",
      "Successfully installed h5py-3.13.0 llvmlite-0.44.0 loompy-3.0.8 numba-0.61.2 numpy-groupies-0.11.2\n",
      "Note: you may need to restart the kernel to use updated packages.\n"
     ]
    }
   ],
   "source": [
    "pip install loompy "
   ]
  },
  {
   "cell_type": "code",
   "execution_count": null,
   "id": "33707133-af5f-4b5b-978a-1db3c33afba6",
   "metadata": {},
   "outputs": [
    {
     "name": "stdout",
     "output_type": "stream",
     "text": [
      "Row Attributes (ds.ra):\n",
      " - Accession → (27998,)\n",
      " - Chromosome → (27998,)\n",
      " - End → (27998,)\n",
      " - Gene → (27998,)\n",
      " - Start → (27998,)\n",
      " - Strand → (27998,)\n",
      "\n",
      "Column Attributes (ds.ca):\n",
      " - Age → (18213,)\n",
      " - CellID → (18213,)\n",
      " - Cell_Conc → (18213,)\n",
      " - ChipID → (18213,)\n",
      " - ClusterName → (18213,)\n",
      " - Clusters → (18213,)\n",
      " - Comments → (18213,)\n",
      " - Date_Captured → (18213,)\n",
      " - DonorID → (18213,)\n",
      " - Label → (18213,)\n",
      " - NGI_PlateWell → (18213,)\n",
      " - Num_Pooled_Animals → (18213,)\n",
      " - PCR_Cycles → (18213,)\n",
      " - Plug_Date → (18213,)\n",
      " - Project → (18213,)\n",
      " - SampleID → (18213,)\n",
      " - SampleOK → (18213,)\n",
      " - Sample_Index → (18213,)\n",
      " - Seq_Comment → (18213,)\n",
      " - Seq_Lib_Date → (18213,)\n",
      " - Seq_Lib_Ok → (18213,)\n",
      " - Serial_Number → (18213,)\n",
      " - Sex → (18213,)\n",
      " - Species → (18213,)\n",
      " - Strain → (18213,)\n",
      " - TSNE1 → (18213,)\n",
      " - TSNE2 → (18213,)\n",
      " - Target_Num_Cells → (18213,)\n",
      " - Tissue → (18213,)\n",
      " - Transcriptome → (18213,)\n",
      " - cDNA_Lib_Ok → (18213,)\n",
      " - ngperul_cDNA → (18213,)\n",
      "\n",
      "Layers:\n",
      " -  → (27998, 18213)\n",
      " - ambiguous → (27998, 18213)\n",
      " - spliced → (27998, 18213)\n",
      " - unspliced → (27998, 18213)\n",
      "(27998, 18213)\n"
     ]
    }
   ],
   "source": [
    "import loompy\n",
    "import numpy as np\n",
    "import pandas as pd\n",
    "\n",
    "# Open the loom file\n",
    "loom_file = \"DentateGyrus.loom\"\n",
    "ds = loompy.connect(loom_file)\n",
    "\n",
    "print(\"Row Attributes (ds.ra):\")\n",
    "for key in ds.ra.keys():\n",
    "    print(\" -\", key, \"→\", ds.ra[key].shape)\n",
    "\n",
    "print(\"\\nColumn Attributes (ds.ca):\")\n",
    "for key in ds.ca.keys():\n",
    "    print(\" -\", key, \"→\", ds.ca[key].shape)\n",
    "\n",
    "print(\"\\nLayers:\")\n",
    "for layer in ds.layers.keys():\n",
    "    print(\" -\", layer, \"→\", ds.layers[layer].shape)\n",
    "    \n",
    "print(ds.shape)  # (genes, cells)\n",
    "\n",
    "# Access layers\n",
    "spliced = ds.layers[\"spliced\"][:]\n",
    "unspliced = ds.layers[\"unspliced\"][:]\n",
    "\n",
    "# Access attributes\n",
    "gene_names = ds.ra[\"Gene\"]\n",
    "tsne_coords = np.column_stack([ds.ca[\"TSNE1\"], ds.ca[\"TSNE2\"]])\n",
    "cluster_names = ds.ca[\"ClusterName\"]\n",
    "\n",
    "print(type(spliced))"
   ]
  },
  {
   "cell_type": "markdown",
   "id": "a98d59f9-4583-4792-9294-0be3837c086e",
   "metadata": {},
   "source": [
    "# Filter Sequencing Data"
   ]
  },
  {
   "cell_type": "code",
   "execution_count": null,
   "id": "ab6f46a1-f9b0-4295-97e5-5da13cfe3fe8",
   "metadata": {},
   "outputs": [],
   "source": [
    "U = np.loadtxt(\"unspliced.csv\", delimiter=\",\")  # shape: (genes, cells)\n",
    "S = np.loadtxt(\"spliced.csv\", delimiter=\",\")\n",
    "\n",
    "gene_mask = (U.mean(axis=1) > threshold) & (S.mean(axis=1) > threshold)\n",
    "U = U[gene_mask]\n",
    "S = S[gene_mask]"
   ]
  },
  {
   "cell_type": "markdown",
   "id": "d40f51dd-6788-42b4-a82c-e4b44d36aa05",
   "metadata": {},
   "source": [
    "# Fit RNA Velocity Model "
   ]
  },
  {
   "cell_type": "code",
   "execution_count": null,
   "id": "d4399900-315d-47d3-a7ca-90b4c52553db",
   "metadata": {},
   "outputs": [],
   "source": [
    "from sklearn.linear_model import LinearRegression\n",
    "\n",
    "def fit_velocity(u, s):\n",
    "    model = LinearRegression().fit(u.reshape(-1, 1), s)\n",
    "    s_pred = model.predict(u.reshape(-1, 1))\n",
    "    velocity = s - s_pred\n",
    "    return velocity, model.coef_, model.intercept_"
   ]
  },
  {
   "cell_type": "markdown",
   "id": "8c8744e0-d130-4842-9950-83c99d60c45b",
   "metadata": {},
   "source": [
    "# Apply PCA"
   ]
  },
  {
   "cell_type": "code",
   "execution_count": 2,
   "id": "7e8b9067-535c-4276-b02c-2a73b5124493",
   "metadata": {},
   "outputs": [
    {
     "ename": "NameError",
     "evalue": "name 'S' is not defined",
     "output_type": "error",
     "traceback": [
      "\u001b[0;31m---------------------------------------------------------------------------\u001b[0m",
      "\u001b[0;31mNameError\u001b[0m                                 Traceback (most recent call last)",
      "Cell \u001b[0;32mIn[2], line 4\u001b[0m\n\u001b[1;32m      1\u001b[0m \u001b[38;5;28;01mfrom\u001b[39;00m \u001b[38;5;21;01msklearn\u001b[39;00m\u001b[38;5;21;01m.\u001b[39;00m\u001b[38;5;21;01mdecomposition\u001b[39;00m \u001b[38;5;28;01mimport\u001b[39;00m PCA\n\u001b[1;32m      2\u001b[0m \u001b[38;5;28;01mfrom\u001b[39;00m \u001b[38;5;21;01msklearn\u001b[39;00m\u001b[38;5;21;01m.\u001b[39;00m\u001b[38;5;21;01mneighbors\u001b[39;00m \u001b[38;5;28;01mimport\u001b[39;00m NearestNeighbors\n\u001b[0;32m----> 4\u001b[0m X \u001b[38;5;241m=\u001b[39m PCA(n_components\u001b[38;5;241m=\u001b[39m\u001b[38;5;241m30\u001b[39m)\u001b[38;5;241m.\u001b[39mfit_transform(\u001b[43mS\u001b[49m\u001b[38;5;241m.\u001b[39mT)  \u001b[38;5;66;03m# Cells × features\u001b[39;00m\n\u001b[1;32m      5\u001b[0m nn \u001b[38;5;241m=\u001b[39m NearestNeighbors(n_neighbors\u001b[38;5;241m=\u001b[39m\u001b[38;5;241m30\u001b[39m)\u001b[38;5;241m.\u001b[39mfit(X)\n\u001b[1;32m      6\u001b[0m neighbors \u001b[38;5;241m=\u001b[39m nn\u001b[38;5;241m.\u001b[39mkneighbors(return_distance\u001b[38;5;241m=\u001b[39m\u001b[38;5;28;01mFalse\u001b[39;00m)\n",
      "\u001b[0;31mNameError\u001b[0m: name 'S' is not defined"
     ]
    }
   ],
   "source": [
    "from sklearn.decomposition import PCA\n",
    "from sklearn.neighbors import NearestNeighbors\n",
    "\n",
    "X = PCA(n_components=30).fit_transform(S.T)  # Cells × features\n",
    "nn = NearestNeighbors(n_neighbors=30).fit(X)\n",
    "neighbors = nn.kneighbors(return_distance=False)\n",
    "\n",
    "pooled_velocity = np.zeros_like(velocity)\n",
    "for i in range(velocity.shape[1]):\n",
    "    pooled_velocity[:, i] = velocity[:, neighbors[i]].mean(axis=1)\n",
    "\n",
    "embedding = umap.UMAP().fit_transform(S.T)\n",
    "velocity_2d = PCA_projection.T @ pooled_velocity  # Cells × PCs"
   ]
  },
  {
   "cell_type": "markdown",
   "id": "e18dc5c7-4775-4c02-94b0-68d036cf7763",
   "metadata": {},
   "source": [
    "# Visualization "
   ]
  },
  {
   "cell_type": "code",
   "execution_count": null,
   "id": "34afddea-f104-4cce-91f6-e9e2fa13aa31",
   "metadata": {},
   "outputs": [],
   "source": [
    "import pandas as pd\n",
    "import matplotlib.pyplot as plt\n",
    "import numpy as np\n",
    "\n",
    "# Load CSVs\n",
    "df_tsne = pd.read_csv(\"tsne_coords.csv\")\n",
    "df_clusters = pd.read_csv(\"cluster_labels.csv\")\n",
    "\n",
    "# Merge the two\n",
    "df = df_tsne.merge(df_clusters, on=\"CellID\")\n",
    "\n",
    "# Define custom cluster color mapping\n",
    "colors_dict = {\n",
    "    \"RadialGlia\": [0.95, 0.6, 0.1], \"RadialGlia2\": [0.85, 0.3, 0.1],\n",
    "    \"ImmAstro\": [0.8, 0.02, 0.1], \"GlialProg\": [0.81, 0.43, 0.723],\n",
    "    \"OPC\": [0.61, 0.13, 0.723], \"nIPC\": [0.9, 0.8 , 0.3],\n",
    "    \"Nbl1\": [0.7, 0.82 , 0.6], \"Nbl2\": [0.448, 0.855, 0.951],\n",
    "    \"ImmGranule1\": [0.35, 0.4, 0.82], \"ImmGranule2\": [0.23, 0.3, 0.7],\n",
    "    \"Granule\": [0.05, 0.11, 0.51], \"CA\": [0.2, 0.53, 0.71],\n",
    "    \"CA1-Sub\": [0.1, 0.45, 0.3], \"CA2-3-4\": [0.3, 0.35, 0.5]\n",
    "}\n",
    "\n",
    "# Plot\n",
    "plt.figure(figsize=(10, 10))\n",
    "for name, group in df.groupby(\"ClusterName\"):\n",
    "    plt.scatter(group[\"TSNE1\"], group[\"TSNE2\"], s=2, label=name,\n",
    "                color=colors_dict.get(name, \"gray\"))\n",
    "\n",
    "# Add cluster labels at median positions\n",
    "for cid in df[\"ClusterID\"].unique():\n",
    "    cluster_df = df[df[\"ClusterID\"] == cid]\n",
    "    median_pos = cluster_df[[\"TSNE1\", \"TSNE2\"]].median()\n",
    "    name = cluster_df[\"ClusterName\"].iloc[0]\n",
    "    plt.text(median_pos[\"TSNE1\"], median_pos[\"TSNE2\"], name,\n",
    "             fontsize=11, bbox={\"facecolor\": \"w\", \"alpha\": 0.6})\n",
    "\n",
    "plt.axis(\"off\")\n",
    "plt.title(\"tSNE of Mouse Hippocampus Cells (No Velocity Overlay)\")\n",
    "plt.tight_layout()\n",
    "plt.show()"
   ]
  },
  {
   "cell_type": "code",
   "execution_count": null,
   "id": "f91c3e53-7c58-4183-ad7b-6508b5609d75",
   "metadata": {},
   "outputs": [],
   "source": [
    "import matplotlib.pyplot as plt\n",
    "\n",
    "plt.scatter(embedding[:, 0], embedding[:, 1], c=\"gray\", s=10)\n",
    "plt.quiver(\n",
    "    embedding[:, 0], embedding[:, 1],\n",
    "    velocity_2d[0, :], velocity_2d[1, :],\n",
    "    angles='xy', scale_units='xy', scale=1, color='red'\n",
    ")\n",
    "plt.show()\n"
   ]
  }
 ],
 "metadata": {
  "kernelspec": {
   "display_name": "Python 3 (ipykernel)",
   "language": "python",
   "name": "python3"
  },
  "language_info": {
   "codemirror_mode": {
    "name": "ipython",
    "version": 3
   },
   "file_extension": ".py",
   "mimetype": "text/x-python",
   "name": "python",
   "nbconvert_exporter": "python",
   "pygments_lexer": "ipython3",
   "version": "3.12.5"
  }
 },
 "nbformat": 4,
 "nbformat_minor": 5
}
